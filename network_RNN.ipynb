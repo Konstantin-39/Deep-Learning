{
 "cells": [
  {
   "cell_type": "markdown",
   "metadata": {},
   "source": [
    "### **Задание 1**   \n",
    "Обучим нейронную сеть решать шифр Цезаря\n",
    "\n",
    "*Что необходимо сделать:*\n",
    "\n",
    "1. Написать алгоритм шифра Цезаря для генерации выборки (сдвиг на К каждой буквы. Например, при сдвиге на 2 буква “А” переходит в букву “В” и тп)\n",
    "2. Сделать нейронную сеть\n",
    "3. Обучить ее (вход - зашифрованная фраза, выход - дешифрованная фраза)\n",
    "4. Проверить качество"
   ]
  },
  {
   "cell_type": "markdown",
   "metadata": {},
   "source": [
    "### **Задание 2**   \n",
    "Выполнить практическую работу из лекционного ноутбука\n",
    "\n",
    "1. Построить RNN-ячейку на основе полносвязных слоев\n",
    "2. Применить построенную ячейку для генерации текста с выражениями героев сериала “Симпсоны”"
   ]
  },
  {
   "cell_type": "markdown",
   "metadata": {},
   "source": [
    "### Задание 1\n"
   ]
  },
  {
   "cell_type": "markdown",
   "metadata": {},
   "source": [
    "#### 1. Написать алгоритм шифра Цезаря\n",
    "\n",
    "\n",
    "> Шифр Цезаря - это простой тип подстановочного шифра, где каждая буква текста заменяется буквой с фиксированным числом позиций вниз по алфавиту.   \n",
    "> Создадим слудующие переменные:  \n",
    "> alphabets - словарь с алфавитом \n",
    "> K - для задания шага сдвига букв, которая будет вручную задаваться пользователем.   \n",
    "> text - исходный текст\n",
    "> encrypted_text - куда мы будем выводить зашифрованное сообщение."
   ]
  },
  {
   "cell_type": "code",
   "execution_count": 38,
   "metadata": {},
   "outputs": [],
   "source": [
    "# Создадим словарь\n",
    "# Ключи 'ru' и 'en' используются для выбора соответствующего алфавита\n",
    "alphabets = {\n",
    "    'ru': 'абвгдеёжзийклмнопрстуфхцчшщъыьэюя',\n",
    "    'en': 'abcdefghijklmnopqrstuvwxyz'\n",
    "}"
   ]
  },
  {
   "cell_type": "code",
   "execution_count": 41,
   "metadata": {},
   "outputs": [],
   "source": [
    "# функция для шифра Цезаря\n",
    "def caesar_cipher(text, K, alphabet):\n",
    "    result = \" \"\n",
    "    for char in text:\n",
    "            if char.lower() in alphabet:\n",
    "                is_upper = char.isupper()\n",
    "                char = char.lower()\n",
    "                index = (alphabet.find(char) + K ) % len(alphabet)\n",
    "                shifted_char = alphabet[index].upper() if is_upper else alphabet[index]\n",
    "                result += shifted_char\n",
    "            else:\n",
    "                result += char\n",
    "    return result       "
   ]
  },
  {
   "cell_type": "code",
   "execution_count": 42,
   "metadata": {},
   "outputs": [
    {
     "name": "stdout",
     "output_type": "stream",
     "text": [
      "\n",
      "Исходный текст: привет Мир\n",
      "Шаг шифрования: 10\n",
      "Выбранный алфавит: ru\n",
      "Зашифрованный текст:  щътлоь Цтъ\n",
      "\n"
     ]
    }
   ],
   "source": [
    "# Ввод данных\n",
    "text = input('введите текст: ')\n",
    "K = int(input('Шаг шифровки: '))\n",
    "alphabet_choice = input('Выберите алфавит (ru/en): '). strip().lower()\n",
    "\n",
    "# Выбор алфавита (по умолчанию русский)\n",
    "alphabet = alphabets.get(alphabet_choice, alphabets['ru'])\n",
    "\n",
    "# Шифрование и вывод результата\n",
    "encrypted_text = caesar_cipher(text, K, alphabet)\n",
    "\n",
    "print(f\"\"\"\n",
    "Исходный текст: {text}\n",
    "Шаг шифрования: {K}\n",
    "Выбранный алфавит: {alphabet_choice}\n",
    "Зашифрованный текст: {encrypted_text}\n",
    "\"\"\")"
   ]
  },
  {
   "cell_type": "markdown",
   "metadata": {},
   "source": [
    "#### 2. Создадим нейронную сеть   \n",
    "\n",
    "Для решения задачи подойдет рекуррентная нейронная сеть (RNN) или её улучшенная версия — LSTM (Long Short-Term Memory). Эти архитектуры хорошо работают с последовательностями, такими как текст."
   ]
  },
  {
   "cell_type": "code",
   "execution_count": 44,
   "metadata": {},
   "outputs": [
    {
     "ename": "ModuleNotFoundError",
     "evalue": "No module named 'tensorflow'",
     "output_type": "error",
     "traceback": [
      "\u001b[1;31m---------------------------------------------------------------------------\u001b[0m",
      "\u001b[1;31mModuleNotFoundError\u001b[0m                       Traceback (most recent call last)",
      "Cell \u001b[1;32mIn[44], line 2\u001b[0m\n\u001b[0;32m      1\u001b[0m \u001b[38;5;66;03m# Импортируем библиотеки\u001b[39;00m\n\u001b[1;32m----> 2\u001b[0m \u001b[38;5;28;01mimport\u001b[39;00m\u001b[38;5;250m \u001b[39m\u001b[38;5;21;01mtensorflow\u001b[39;00m\u001b[38;5;250m \u001b[39m\u001b[38;5;28;01mas\u001b[39;00m\u001b[38;5;250m \u001b[39m\u001b[38;5;21;01mtf\u001b[39;00m\n",
      "\u001b[1;31mModuleNotFoundError\u001b[0m: No module named 'tensorflow'"
     ]
    }
   ],
   "source": [
    "# Импортируем библиотеки\n",
    "import tensorflow as tf\n"
   ]
  }
 ],
 "metadata": {
  "kernelspec": {
   "display_name": ".venv",
   "language": "python",
   "name": "python3"
  },
  "language_info": {
   "codemirror_mode": {
    "name": "ipython",
    "version": 3
   },
   "file_extension": ".py",
   "mimetype": "text/x-python",
   "name": "python",
   "nbconvert_exporter": "python",
   "pygments_lexer": "ipython3",
   "version": "3.11.9"
  }
 },
 "nbformat": 4,
 "nbformat_minor": 2
}
