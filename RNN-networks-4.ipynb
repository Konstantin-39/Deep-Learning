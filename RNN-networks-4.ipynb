{
 "cells": [
  {
   "cell_type": "markdown",
   "metadata": {
    "id": "45ogC3QmqKn1"
   },
   "source": [
    "### В этой работе:\n",
    "1. Скачаем [датасет](https://www.manythings.org/anki/rus-eng.zip) англо-русскую пару фраз\n",
    "2. Обучим seq2seq модель with attention\n",
    "* На основе скалярного произведения\n",
    "* На основе MLP\n",
    "Оцените качество\n",
    "3. Оценим качество модели"
   ]
  },
  {
   "cell_type": "markdown",
   "metadata": {
    "id": "Zpq4MzorqKn3"
   },
   "source": [
    "### Загрузим данные"
   ]
  },
  {
   "cell_type": "code",
   "execution_count": 30,
   "metadata": {
    "executionInfo": {
     "elapsed": 542,
     "status": "ok",
     "timestamp": 1739621639861,
     "user": {
      "displayName": "Константин Лазарев",
      "userId": "14945562823263778992"
     },
     "user_tz": -120
    },
    "id": "-YlRH3mQM9tf"
   },
   "outputs": [],
   "source": [
    "%matplotlib inline"
   ]
  },
  {
   "cell_type": "code",
   "execution_count": 31,
   "metadata": {
    "executionInfo": {
     "elapsed": 1147,
     "status": "ok",
     "timestamp": 1739621644435,
     "user": {
      "displayName": "Константин Лазарев",
      "userId": "14945562823263778992"
     },
     "user_tz": -120
    },
    "id": "MIEGXF8oM9tt"
   },
   "outputs": [],
   "source": [
    "from __future__ import unicode_literals, print_function, division\n",
    "from io import open\n",
    "import unicodedata\n",
    "import re\n",
    "import random\n",
    "\n",
    "import torch\n",
    "import torch.nn as nn\n",
    "from torch import optim\n",
    "import torch.nn.functional as F\n",
    "\n",
    "import numpy as np\n",
    "from torch.utils.data import TensorDataset, DataLoader, RandomSampler\n",
    "\n",
    "device = torch.device(\"cuda\" if torch.cuda.is_available() else \"cpu\")"
   ]
  },
  {
   "cell_type": "code",
   "execution_count": 3,
   "metadata": {
    "executionInfo": {
     "elapsed": 6,
     "status": "ok",
     "timestamp": 1739619144517,
     "user": {
      "displayName": "Константин Лазарев",
      "userId": "14945562823263778992"
     },
     "user_tz": -120
    },
    "id": "8UKlPFcBNZl5"
   },
   "outputs": [],
   "source": [
    "# загрузим данные\n",
    "# !wget https://www.manythings.org/anki/rus-eng.zip"
   ]
  },
  {
   "cell_type": "code",
   "execution_count": 4,
   "metadata": {
    "executionInfo": {
     "elapsed": 5,
     "status": "ok",
     "timestamp": 1739619144517,
     "user": {
      "displayName": "Константин Лазарев",
      "userId": "14945562823263778992"
     },
     "user_tz": -120
    },
    "id": "wGQChB7nqKn6"
   },
   "outputs": [],
   "source": [
    "# # распакуем\n",
    "# import zipfile\n",
    "\n",
    "# with zipfile.ZipFile(r\"D:\\Progect\\RNN\\rus-eng.zip\", 'r') as zip_ref:\n",
    "#     zip_ref.extractall(\"D:\\Progect\\RNN\")"
   ]
  },
  {
   "cell_type": "code",
   "execution_count": 5,
   "metadata": {
    "colab": {
     "base_uri": "https://localhost:8080/"
    },
    "executionInfo": {
     "elapsed": 600,
     "status": "ok",
     "timestamp": 1739619145112,
     "user": {
      "displayName": "Константин Лазарев",
      "userId": "14945562823263778992"
     },
     "user_tz": -120
    },
    "id": "twIcAJnyRkW-",
    "outputId": "e304a4ad-e4d7-4e54-b8f1-8736b6e3d1fe"
   },
   "outputs": [
    {
     "name": "stdout",
     "output_type": "stream",
     "text": [
      "We need to uphold laws against discrimination — in hiring, and in housing, and in education, and in the criminal justice system. That is what our Constitution and our highest ideals require.\tНам нужно отстаивать законы против дискриминации при найме на работу, в жилищной сфере, в сфере образования и правоохранительной системе. Этого требуют наша Конституция и высшие идеалы.\tCC-BY 2.0 (France) Attribution: tatoeba.org #5762728 (BHO) & #6390439 (odexed)\n",
      "I've heard that you should never date anyone who is less than half your age plus seven. Tom is now 30 years old and Mary is 17. How many years will Tom need to wait until he can start dating Mary?\tЯ слышал, что никогда не следует встречаться с кем-то вдвое младше вас плюс семь лет. Тому 30 лет, a Мэри 17. Сколько лет Тому нужно ждать до тех пор, пока он сможет начать встречаться с Мэри?\tCC-BY 2.0 (France) Attribution: tatoeba.org #10068197 (CK) & #10644473 (notenoughsun)\n",
      "I do have one final ask of you as your president, the same thing I asked when you took a chance on me eight years ago. I'm asking you to believe, not in my ability to bring about change but in yours.\tУ меня же, как у вашего президента, есть к вам последняя просьба. Та же самая, что и восемь лет назад, когда вы оказали мне своё доверие. Я прошу вас верить, но не в мои способности добиться перемен, а в ваши.\tCC-BY 2.0 (France) Attribution: tatoeba.org #5762723 (BHO) & #6390123 (odexed)\n",
      "In today's world, we have to equip all our kids with an education that prepares them for success, regardless of what they look like, or how much their parents make, or the zip code that they live in.\tВ современном мире перед нами стоит задача дать всем нашим детям такое образование, которое настроит их на успех вне зависимости от того, как они выглядят, сколько зарабатывают их родители или какой у них почтовый индекс.\tCC-BY 2.0 (France) Attribution: tatoeba.org #3924477 (BHO) & #5968115 (odexed)\n",
      "Death is something that we're often discouraged to talk about or even think about, but I've realized that preparing for death is one of the most empowering things you can do. Thinking about death clarifies your life.\tСмерть - это зачастую то, разговоры или даже мысли о чем приводят в уныние, но я осознал, что готовность умереть наделяет силой, как ничто другое. Мысль о смерти вносит ясность в твою жизнь.\tCC-BY 2.0 (France) Attribution: tatoeba.org #1969892 (davearms) & #3231553 (kukla)\n",
      "At a moment when our economy is growing, our businesses are creating jobs at the fastest pace since the 1990s, and wages are starting to rise again, we have to make some choices about the kind of country we want to be.\tВ тот момент, когда наша экономика растёт, наши предприятия создают рабочие места наибольшими темпами, начиная с 90-х годов, а зарплаты снова начинают расти, мы должны принять ряд решений относительно того, какой страной мы хотим быть.\tCC-BY 2.0 (France) Attribution: tatoeba.org #3924474 (BHO) & #4509418 (odexed)\n",
      "When I was younger, I hated going to weddings. My grandmothers and aunts would huddle around me, poke me in the side, and giggle \"You're next! You're next!\" They only stopped this nonsense when I began to do the same thing at funerals.\tКогда я была помоложе, я ненавидела ходить на свадьбы. Мои бабушки и тётки толпились вокруг, тыкали меня в бок и говорили, посмеиваясь: «Ты следующая! Ты следующая!». Они перестали нести этот вздор только тогда, когда я начала делать то же самое на похоронах.\tCC-BY 2.0 (France) Attribution: tatoeba.org #2776770 (AlanF_US) & #4311406 (odexed)\n",
      "Since there are usually multiple websites on any given topic, I usually just click the back button when I arrive on any webpage that has pop-up advertising. I just go to the next page found by Google and hope for something less irritating.\tПоскольку сайтов, посвящённых какой-либо теме, как правило, несколько, я обычно просто нажимаю на кнопку \"назад\", если попадаю на страницу со всплывающей рекламой. Я просто перехожу на следующую страницу, найденную гуглом, и надеюсь найти что-то менее раздражающее.\tCC-BY 2.0 (France) Attribution: tatoeba.org #954270 (CK) & #6383010 (odexed)\n",
      "If someone who doesn't know your background says that you sound like a native speaker, it means they probably noticed something about your speaking that made them realize you weren't a native speaker. In other words, you don't really sound like a native speaker.\tЕсли кто-то незнакомый говорит, что вы говорите как носитель языка, это значит, что он, вероятно, заметил что-то в вашей речи, что дало ему понять, что вы не носитель. Другими словами, вы не говорите как носитель.\tCC-BY 2.0 (France) Attribution: tatoeba.org #953936 (CK) & #10644468 (notenoughsun)\n",
      "Doubtless there exists in this world precisely the right woman for any given man to marry and vice versa; but when you consider that a human being has the opportunity of being acquainted with only a few hundred people, and out of the few hundred that there are but a dozen or less whom he knows intimately, and out of the dozen, one or two friends at most, it will easily be seen, when we remember the number of millions who inhabit this world, that probably, since the earth was created, the right man has never yet met the right woman.\tНесомненно, для каждого мужчины в этом мире где-то есть подходящая женщина, которая может стать ему женой, обратное верно и для женщин. Но если учесть, что у человека может быть максимум несколько сотен знакомых, из которых лишь дюжина, а то и меньше, тех, кого он знает близко, а из этой дюжины у него один или от силы два друга, то можно легко увидеть, что с учётом миллионов живущих на Земле людей, ни один подходящий мужчина, возможно, ещё не встретил подходящую женщину.\tCC-BY 2.0 (France) Attribution: tatoeba.org #7697649 (RM) & #7730831 (odexed)\n"
     ]
    }
   ],
   "source": [
    "# смотрим что внутри, выведем последние 10 строк текста\n",
    "with open(r\"/content/eng-rus.txt\", 'r') as file:\n",
    "    lines = file.readlines()\n",
    "    for line in lines[-10:]:  # Shows last 10 lines\n",
    "        print(line.strip())"
   ]
  },
  {
   "cell_type": "markdown",
   "metadata": {
    "id": "mlvU5MPnqKn6"
   },
   "source": [
    "### Выполним предварительную обработку данных"
   ]
  },
  {
   "cell_type": "code",
   "execution_count": 6,
   "metadata": {
    "executionInfo": {
     "elapsed": 5,
     "status": "ok",
     "timestamp": 1739619145112,
     "user": {
      "displayName": "Константин Лазарев",
      "userId": "14945562823263778992"
     },
     "user_tz": -120
    },
    "id": "kyNnJyruM9t1"
   },
   "outputs": [],
   "source": [
    "SOS_token = 0   # Start of sequence\n",
    "EOS_token = 1   # End of sequence\n",
    "\n",
    "class Lang:\n",
    "    def __init__(self, name):\n",
    "        self.name = name\n",
    "        self.word2index = {}\n",
    "        self.word2count = {}\n",
    "        self.index2word = {0: \"SOS\", 1: \"EOS\"}\n",
    "        self.n_words = 2  # Count SOS and EOS\n",
    "\n",
    "    def addSentence(self, sentence):\n",
    "        for word in sentence.split(' '):\n",
    "            self.addWord(word)\n",
    "\n",
    "    def addWord(self, word):\n",
    "        if word not in self.word2index:\n",
    "            self.word2index[word] = self.n_words\n",
    "            self.word2count[word] = 1\n",
    "            self.index2word[self.n_words] = word\n",
    "            self.n_words += 1\n",
    "        else:\n",
    "            self.word2count[word] += 1"
   ]
  },
  {
   "cell_type": "code",
   "execution_count": 7,
   "metadata": {
    "executionInfo": {
     "elapsed": 5,
     "status": "ok",
     "timestamp": 1739619145112,
     "user": {
      "displayName": "Константин Лазарев",
      "userId": "14945562823263778992"
     },
     "user_tz": -120
    },
    "id": "FXKs8j4bM9t6"
   },
   "outputs": [],
   "source": [
    "# Turn a Unicode string to plain ASCII, thanks to\n",
    "# http://stackoverflow.com/a/518232/2809427\n",
    "\n",
    "# преобразуем символы Unicode в ASCII, сделаем все строчными и удалим большую часть знаков препинания\n",
    "# удалим диакритические знаки\n",
    "def unicodeToAscii(s):\n",
    "    return ''.join(\n",
    "        c for c in unicodedata.normalize('NFD', s)\n",
    "        if unicodedata.category(c) != 'Mn'  # проверяем, что категория символа c не является \"Mn\" (Mark, Nonspacing), то есть это не диакритический знак.\n",
    "    )\n",
    "\n",
    "# проведем предобработку текста\n",
    "def normalizeString(s):\n",
    "    s = unicodeToAscii(s.lower().strip())\n",
    "    s = re.sub(r\"([.!?])\", r\" \\1\", s)\n",
    "    # s = re.sub(r\"[^а-яА-Я.!?]+\", r\" \", s)\n",
    "    return s"
   ]
  },
  {
   "cell_type": "code",
   "execution_count": 8,
   "metadata": {
    "executionInfo": {
     "elapsed": 5,
     "status": "ok",
     "timestamp": 1739619145112,
     "user": {
      "displayName": "Константин Лазарев",
      "userId": "14945562823263778992"
     },
     "user_tz": -120
    },
    "id": "D8T4VxZeM9t-"
   },
   "outputs": [],
   "source": [
    "# прочитаем текст с парами предложений\n",
    "# флаг reverse, указывает нужно ли поменять язык перевода местами\n",
    "# если  reverse=True - меняем порядок предложений в каждой паре\n",
    "# если reverse=False - оставляем порядок предложений без изменений\n",
    "def readLangs(lang1, lang2, reverse=False):\n",
    "    print(\"Reading lines...\")\n",
    "\n",
    "    # Прочитаем текст построчно\n",
    "    lines = open('%s-%s.txt' % (lang1, lang2), encoding='utf-8').\\\n",
    "        read().strip().split('\\n')\n",
    "\n",
    "    # разделитель в тексте разный, в моем случаее это CC-BY\n",
    "    lines = [i.split('\\tCC-BY', 1)[0] for i in lines]\n",
    "\n",
    "    # Соеденим каждую строку в пару предложений, проведем нормализацию текста\n",
    "    pairs = [[normalizeString(s) for s in l.split('\\t')] for l in lines]\n",
    "\n",
    "    # Возвращаем список пар слов\n",
    "    if reverse:\n",
    "        pairs = [list(reversed(p)) for p in pairs]\n",
    "        input_lang = Lang(lang2)\n",
    "        output_lang = Lang(lang1)\n",
    "    else:\n",
    "        input_lang = Lang(lang1)\n",
    "        output_lang = Lang(lang2)\n",
    "\n",
    "    return input_lang, output_lang, pairs"
   ]
  },
  {
   "cell_type": "code",
   "execution_count": 9,
   "metadata": {
    "executionInfo": {
     "elapsed": 5,
     "status": "ok",
     "timestamp": 1739619145113,
     "user": {
      "displayName": "Константин Лазарев",
      "userId": "14945562823263778992"
     },
     "user_tz": -120
    },
    "id": "eBOwgEBdM9uB"
   },
   "outputs": [],
   "source": [
    "# максимальное количество слов в предложении\n",
    "MAX_LENGTH = 20\n",
    "\n",
    "# Префиксы для предложений\n",
    "ENGLISH_PREFIXES = (\n",
    "    \"i am \", \"i m \",\n",
    "    \"he is\", \"he s \",\n",
    "    \"she is\", \"she s\",\n",
    "    \"you are\", \"you re \",\n",
    "    \"we are\", \"we re \",\n",
    "    \"they are\", \"they re \"\n",
    ")\n",
    "\n",
    "def filter_pair(p):\n",
    "    return len(p[0].split(' ')) < MAX_LENGTH and \\\n",
    "        len(p[1].split(' ')) < MAX_LENGTH and \\\n",
    "        p[1].startswith(ENGLISH_PREFIXES)\n",
    "\n",
    "def filter_pairs(pairs):\n",
    "    return [pair for pair in pairs if filter_pair(pair)]"
   ]
  },
  {
   "cell_type": "markdown",
   "metadata": {
    "id": "76AHa1i6XlSs"
   },
   "source": [
    "Полный процесс подготовки данных выглядит следующим образом:\n",
    "* Прочитать текстовый файл и разбить его на строки, разбить строки на пары\n",
    "* Нормализовать текст, отфильтровать по длине и содержанию\n",
    "* Составьте списки слов из предложений в парах."
   ]
  },
  {
   "cell_type": "code",
   "execution_count": 10,
   "metadata": {
    "colab": {
     "base_uri": "https://localhost:8080/"
    },
    "executionInfo": {
     "elapsed": 11151,
     "status": "ok",
     "timestamp": 1739619156260,
     "user": {
      "displayName": "Константин Лазарев",
      "userId": "14945562823263778992"
     },
     "user_tz": -120
    },
    "id": "6dZOGjd5M9uE",
    "outputId": "a3e96db8-a9e6-4b79-cbd4-942d6a742e29"
   },
   "outputs": [
    {
     "name": "stdout",
     "output_type": "stream",
     "text": [
      "Reading lines...\n",
      "Read 496059 sentence pairs\n",
      "Trimmed to 5113 sentence pairs\n",
      "Counting words...\n",
      "Counted words:\n",
      "rus 4792\n",
      "eng 2446\n",
      "['я не учительница .', 'i am not a teacher .']\n"
     ]
    }
   ],
   "source": [
    "# функция подготовки данных для машинного перевода\n",
    "# lang1 и lang2 - коды языков (например, 'eng' для английского, 'rus' для русского)\n",
    "# reverse=False - направление перевода\n",
    "def prepareData(lang1, lang2, reverse=False):\n",
    "\n",
    "    # выведим количество прочитанных пар предложений\n",
    "    input_lang, output_lang, pairs = readLangs(lang1, lang2, reverse)\n",
    "    print(\"Read %s sentence pairs\" % len(pairs))\n",
    "\n",
    "    # выведим количество пар предложений после фильтрации\n",
    "    pairs = filter_pairs(pairs)\n",
    "    print(\"Trimmed to %s sentence pairs\" % len(pairs))\n",
    "    print(\"Counting words...\")\n",
    "    for pair in pairs:\n",
    "        input_lang.addSentence(pair[0])\n",
    "        output_lang.addSentence(pair[1])\n",
    "\n",
    "    # выводит имя языка и количество уникальных слов\n",
    "    print(\"Counted words:\")\n",
    "    print(input_lang.name, input_lang.n_words)\n",
    "    print(output_lang.name, output_lang.n_words)\n",
    "    return input_lang, output_lang, pairs\n",
    "\n",
    "# параметры машинного перевода: 'eng' - английский язык, 'rus' - русский язык\n",
    "# True - перевод будет осуществляться с русского на английский\n",
    "input_lang, output_lang, pairs = prepareData('eng', 'rus', True)\n",
    "\n",
    "# проверим корректность работы функции\n",
    "print(random.choice(pairs))"
   ]
  },
  {
   "cell_type": "markdown",
   "metadata": {
    "id": "trBWcGm0kNIK"
   },
   "source": [
    "Прочитали 496 059 пар предложений   \n",
    "После фильтрации осталось 5113 пар предложений   \n",
    "Посчитали количество уникальных пар предложений:   \n",
    "для русского языка - 4792   \n",
    "для английского языка - 2446   \n",
    "\n",
    "При этом, если мы изменим параметр MAX_LENGTH больше чем 20, тогда получим большее число уникальных предложений, если уменьшим, то, соответственно получим меньшее количество уникальных предложений"
   ]
  },
  {
   "cell_type": "markdown",
   "metadata": {
    "id": "IVER9Pc4f6VF"
   },
   "source": [
    "-------------------------------------\n",
    "Если на этом этапе в результате предобработки мы увидели корректный текст на двух разных языках (в нашем варианте 'eng'и 'rus'), тогда можно приступать к следующему шагу, к созданию архитектуры модели и её обучению.    \n",
    "Если до этого момента на выходе получили непонятный текст или ошибку, то следует вернуться к повторной обработке данных, пока не получим корректный результат."
   ]
  },
  {
   "cell_type": "markdown",
   "metadata": {
    "id": "upw8QbDvqKn8"
   },
   "source": [
    "### Архитектура Seq2Seq модели"
   ]
  },
  {
   "cell_type": "markdown",
   "metadata": {
    "id": "sjwBXcGsXlSt"
   },
   "source": [
    "Сеть Sequence to Sequence , или seq2seq, или сеть Encoder Decoder , представляет собой модель, состоящую из двух RNN, называемых encoder и decoder. Encoder считывает входную последовательность и выводит один вектор, а decoder считывает этот вектор, чтобы создать выходную последовательность."
   ]
  },
  {
   "cell_type": "code",
   "execution_count": 11,
   "metadata": {
    "executionInfo": {
     "elapsed": 6,
     "status": "ok",
     "timestamp": 1739619156260,
     "user": {
      "displayName": "Константин Лазарев",
      "userId": "14945562823263778992"
     },
     "user_tz": -120
    },
    "id": "m9vm9QBWM9uI"
   },
   "outputs": [],
   "source": [
    "class EncoderRNN(nn.Module):\n",
    "    def __init__(self, input_size, hidden_size, dropout_p=0.1):\n",
    "        super(EncoderRNN, self).__init__()\n",
    "        self.hidden_size = hidden_size\n",
    "\n",
    "        self.embedding = nn.Embedding(input_size, hidden_size)\n",
    "        self.gru = nn.GRU(hidden_size, hidden_size, batch_first=True)\n",
    "        self.dropout = nn.Dropout(dropout_p)\n",
    "\n",
    "    def forward(self, input):\n",
    "        embedded = self.dropout(self.embedding(input))\n",
    "        output, hidden = self.gru(embedded)\n",
    "        return output, hidden"
   ]
  },
  {
   "cell_type": "markdown",
   "metadata": {
    "id": "lQlumhhEXlSu"
   },
   "source": [
    "Декодер — это еще одна RNN, которая берет выходные векторы кодера и выводит последовательность слов для создания перевода."
   ]
  },
  {
   "cell_type": "code",
   "execution_count": 12,
   "metadata": {
    "executionInfo": {
     "elapsed": 6,
     "status": "ok",
     "timestamp": 1739619156261,
     "user": {
      "displayName": "Константин Лазарев",
      "userId": "14945562823263778992"
     },
     "user_tz": -120
    },
    "id": "PFbuUL1LM9uL"
   },
   "outputs": [],
   "source": [
    "class DecoderRNN(nn.Module):\n",
    "    def __init__(self, hidden_size, output_size):\n",
    "        super(DecoderRNN, self).__init__()\n",
    "        self.embedding = nn.Embedding(output_size, hidden_size)\n",
    "        self.gru = nn.GRU(hidden_size, hidden_size, batch_first=True)\n",
    "        self.out = nn.Linear(hidden_size, output_size)\n",
    "\n",
    "    def forward(self, encoder_outputs, encoder_hidden, target_tensor=None):\n",
    "        batch_size = encoder_outputs.size(0)\n",
    "        decoder_input = torch.empty(batch_size, 1, dtype=torch.long, device=device).fill_(SOS_token)\n",
    "        decoder_hidden = encoder_hidden\n",
    "        decoder_outputs = []\n",
    "\n",
    "        for i in range(MAX_LENGTH):\n",
    "            decoder_output, decoder_hidden  = self.forward_step(decoder_input, decoder_hidden)\n",
    "            decoder_outputs.append(decoder_output)\n",
    "\n",
    "            if target_tensor is not None:\n",
    "                # Teacher forcing: Feed the target as the next input\n",
    "                decoder_input = target_tensor[:, i].unsqueeze(1) # Teacher forcing\n",
    "            else:\n",
    "                # Without teacher forcing: use its own predictions as the next input\n",
    "                _, topi = decoder_output.topk(1)\n",
    "                decoder_input = topi.squeeze(-1).detach()  # detach from history as input\n",
    "\n",
    "        decoder_outputs = torch.cat(decoder_outputs, dim=1)\n",
    "        decoder_outputs = F.log_softmax(decoder_outputs, dim=-1)\n",
    "        return decoder_outputs, decoder_hidden, None # We return `None` for consistency in the training loop\n",
    "\n",
    "    def forward_step(self, input, hidden):\n",
    "        output = self.embedding(input)\n",
    "        output = F.relu(output)\n",
    "        output, hidden = self.gru(output, hidden)\n",
    "        output = self.out(output)\n",
    "        return output, hidden"
   ]
  },
  {
   "cell_type": "code",
   "execution_count": 13,
   "metadata": {
    "executionInfo": {
     "elapsed": 6,
     "status": "ok",
     "timestamp": 1739619156261,
     "user": {
      "displayName": "Константин Лазарев",
      "userId": "14945562823263778992"
     },
     "user_tz": -120
    },
    "id": "350QQAoyXlSu"
   },
   "outputs": [],
   "source": [
    "class BahdanauAttention(nn.Module):\n",
    "    def __init__(self, hidden_size):\n",
    "        super(BahdanauAttention, self).__init__()\n",
    "        self.Wa = nn.Linear(hidden_size, hidden_size)\n",
    "        self.Ua = nn.Linear(hidden_size, hidden_size)\n",
    "        self.Va = nn.Linear(hidden_size, 1)\n",
    "\n",
    "    def forward(self, query, keys):\n",
    "        scores = self.Va(torch.tanh(self.Wa(query) + self.Ua(keys)))\n",
    "        scores = scores.squeeze(2).unsqueeze(1)\n",
    "\n",
    "        weights = F.softmax(scores, dim=-1)\n",
    "        context = torch.bmm(weights, keys)\n",
    "\n",
    "        return context, weights\n",
    "\n",
    "class AttnDecoderRNN(nn.Module):\n",
    "    def __init__(self, hidden_size, output_size, dropout_p=0.1):\n",
    "        super(AttnDecoderRNN, self).__init__()\n",
    "        self.embedding = nn.Embedding(output_size, hidden_size)\n",
    "        self.attention = BahdanauAttention(hidden_size)\n",
    "        self.gru = nn.GRU(2 * hidden_size, hidden_size, batch_first=True)\n",
    "        self.out = nn.Linear(hidden_size, output_size)\n",
    "        self.dropout = nn.Dropout(dropout_p)\n",
    "\n",
    "    def forward(self, encoder_outputs, encoder_hidden, target_tensor=None):\n",
    "        batch_size = encoder_outputs.size(0)\n",
    "        decoder_input = torch.empty(batch_size, 1, dtype=torch.long, device=device).fill_(SOS_token)\n",
    "        decoder_hidden = encoder_hidden\n",
    "        decoder_outputs = []\n",
    "        attentions = []\n",
    "\n",
    "        for i in range(MAX_LENGTH):\n",
    "            decoder_output, decoder_hidden, attn_weights = self.forward_step(\n",
    "                decoder_input, decoder_hidden, encoder_outputs\n",
    "            )\n",
    "            decoder_outputs.append(decoder_output)\n",
    "            attentions.append(attn_weights)\n",
    "\n",
    "            if target_tensor is not None:\n",
    "                # Teacher forcing: Feed the target as the next input\n",
    "                decoder_input = target_tensor[:, i].unsqueeze(1) # Teacher forcing\n",
    "            else:\n",
    "                # Without teacher forcing: use its own predictions as the next input\n",
    "                _, topi = decoder_output.topk(1)\n",
    "                decoder_input = topi.squeeze(-1).detach()  # detach from history as input\n",
    "\n",
    "        decoder_outputs = torch.cat(decoder_outputs, dim=1)\n",
    "        decoder_outputs = F.log_softmax(decoder_outputs, dim=-1)\n",
    "        attentions = torch.cat(attentions, dim=1)\n",
    "\n",
    "        return decoder_outputs, decoder_hidden, attentions\n",
    "\n",
    "\n",
    "    def forward_step(self, input, hidden, encoder_outputs):\n",
    "        embedded =  self.dropout(self.embedding(input))\n",
    "\n",
    "        query = hidden.permute(1, 0, 2)\n",
    "        context, attn_weights = self.attention(query, encoder_outputs)\n",
    "        input_gru = torch.cat((embedded, context), dim=2)\n",
    "\n",
    "        output, hidden = self.gru(input_gru, hidden)\n",
    "        output = self.out(output)\n",
    "\n",
    "        return output, hidden, attn_weights"
   ]
  },
  {
   "cell_type": "markdown",
   "metadata": {
    "id": "a-qTh_ZRXlSu"
   },
   "source": [
    "### Обучение\n",
    "#### Подготовка обучающих данных\n",
    "Для обучения нам для каждой пары понадобится входной тензор (индексы слов во входном предложении) и целевой тензор (индексы слов в целевом предложении). При создании этих векторов мы добавим токен EOS к обеим последовательностям."
   ]
  },
  {
   "cell_type": "code",
   "execution_count": 14,
   "metadata": {
    "executionInfo": {
     "elapsed": 5,
     "status": "ok",
     "timestamp": 1739619156261,
     "user": {
      "displayName": "Константин Лазарев",
      "userId": "14945562823263778992"
     },
     "user_tz": -120
    },
    "id": "IQM8I-X560ZC"
   },
   "outputs": [],
   "source": [
    "def indexesFromSentence(lang, sentence):\n",
    "    return [lang.word2index[word] for word in sentence.split(' ')]\n",
    "\n",
    "def tensorFromSentence(lang, sentence):\n",
    "    indexes = indexesFromSentence(lang, sentence)\n",
    "    indexes.append(EOS_token)\n",
    "    return torch.tensor(indexes, dtype=torch.long, device=device).view(1, -1)\n",
    "\n",
    "def tensorsFromPair(pair):\n",
    "    input_tensor = tensorFromSentence(input_lang, pair[0])\n",
    "    target_tensor = tensorFromSentence(output_lang, pair[1])\n",
    "    return (input_tensor, target_tensor)\n",
    "\n",
    "def get_dataloader(batch_size):\n",
    "    input_lang, output_lang, pairs = prepareData('eng', 'rus', True)\n",
    "\n",
    "    n = len(pairs)\n",
    "    input_ids = np.zeros((n, MAX_LENGTH), dtype=np.int32)\n",
    "    target_ids = np.zeros((n, MAX_LENGTH), dtype=np.int32)\n",
    "\n",
    "    for idx, (inp, tgt) in enumerate(pairs):\n",
    "        inp_ids = indexesFromSentence(input_lang, inp)\n",
    "        tgt_ids = indexesFromSentence(output_lang, tgt)\n",
    "        inp_ids.append(EOS_token)\n",
    "        tgt_ids.append(EOS_token)\n",
    "        input_ids[idx, :len(inp_ids)] = inp_ids\n",
    "        target_ids[idx, :len(tgt_ids)] = tgt_ids\n",
    "\n",
    "    train_data = TensorDataset(torch.LongTensor(input_ids).to(device),\n",
    "                               torch.LongTensor(target_ids).to(device))\n",
    "\n",
    "    train_sampler = RandomSampler(train_data)\n",
    "    train_dataloader = DataLoader(train_data, sampler=train_sampler, batch_size=batch_size)\n",
    "    return input_lang, output_lang, train_dataloader"
   ]
  },
  {
   "cell_type": "markdown",
   "metadata": {
    "id": "btx-uIk5XlSv"
   },
   "source": [
    "#### Обучение модели\n",
    "Для обучения мы пропускаем входное предложение через кодер и отслеживаем каждый выход и последнее скрытое состояние. Затем декодеру дается <SOS>токен в качестве его первого входа, а последнее скрытое состояние кодера — в качестве его первого скрытого состояния.\n",
    "\n",
    "«Teacher forcing» — это концепция использования реальных целевых выходов в качестве каждого следующего входа вместо использования догадки декодера в качестве следующего входа. Использование teacher forcing заставляет его сходиться быстрее, но когда обученная сеть эксплуатируется, она может проявлять нестабильность ."
   ]
  },
  {
   "cell_type": "code",
   "execution_count": 15,
   "metadata": {
    "executionInfo": {
     "elapsed": 5,
     "status": "ok",
     "timestamp": 1739619156261,
     "user": {
      "displayName": "Константин Лазарев",
      "userId": "14945562823263778992"
     },
     "user_tz": -120
    },
    "id": "ERkOETdzXlSv"
   },
   "outputs": [],
   "source": [
    "def train_epoch(dataloader, encoder, decoder, encoder_optimizer,\n",
    "          decoder_optimizer, criterion):\n",
    "\n",
    "    total_loss = 0\n",
    "    for data in dataloader:\n",
    "        input_tensor, target_tensor = data\n",
    "\n",
    "        encoder_optimizer.zero_grad()\n",
    "        decoder_optimizer.zero_grad()\n",
    "\n",
    "        encoder_outputs, encoder_hidden = encoder(input_tensor)\n",
    "        decoder_outputs, _, _ = decoder(encoder_outputs, encoder_hidden, target_tensor)\n",
    "\n",
    "        loss = criterion(\n",
    "            decoder_outputs.view(-1, decoder_outputs.size(-1)),\n",
    "            target_tensor.view(-1)\n",
    "        )\n",
    "        loss.backward()\n",
    "\n",
    "        encoder_optimizer.step()\n",
    "        decoder_optimizer.step()\n",
    "\n",
    "        total_loss += loss.item()\n",
    "\n",
    "    return total_loss / len(dataloader)"
   ]
  },
  {
   "cell_type": "markdown",
   "metadata": {
    "id": "6-0sDko67VnC"
   },
   "source": [
    "Это вспомогательная функция для вывода прошедшего времени и предполагаемого оставшегося времени с учетом текущего времени и процента прогресса."
   ]
  },
  {
   "cell_type": "code",
   "execution_count": 16,
   "metadata": {
    "executionInfo": {
     "elapsed": 444,
     "status": "ok",
     "timestamp": 1739619156700,
     "user": {
      "displayName": "Константин Лазарев",
      "userId": "14945562823263778992"
     },
     "user_tz": -120
    },
    "id": "EKsdwPmSM9uU"
   },
   "outputs": [],
   "source": [
    "import time\n",
    "import math\n",
    "\n",
    "def asMinutes(s):\n",
    "    m = math.floor(s / 60)\n",
    "    s -= m * 60\n",
    "    return '%dm %ds' % (m, s)\n",
    "\n",
    "def timeSince(since, percent):\n",
    "    now = time.time()\n",
    "    s = now - since\n",
    "    es = s / (percent)\n",
    "    rs = es - s\n",
    "    return '%s (- %s)' % (asMinutes(s), asMinutes(rs))"
   ]
  },
  {
   "cell_type": "markdown",
   "metadata": {
    "id": "SvbyF-1wXlSv"
   },
   "source": [
    "Весь процесс обучения выглядит так:\n",
    "\n",
    "Запустите таймер\n",
    "\n",
    "Инициализация оптимизаторов и критериев\n",
    "\n",
    "Создать набор обучающих пар\n",
    "\n",
    "Запустить пустой массив потерь для построения графика\n",
    "\n",
    "Затем мы вызываем trainмного раз и время от времени выводим прогресс (% примеров, время на данный момент, расчетное время) и средний убыток."
   ]
  },
  {
   "cell_type": "code",
   "execution_count": 22,
   "metadata": {
    "executionInfo": {
     "elapsed": 1325,
     "status": "ok",
     "timestamp": 1739620086477,
     "user": {
      "displayName": "Константин Лазарев",
      "userId": "14945562823263778992"
     },
     "user_tz": -120
    },
    "id": "lQQAG_KAb-J8"
   },
   "outputs": [],
   "source": [
    "import matplotlib.pyplot as plt\n",
    "plt.switch_backend('agg')\n",
    "import matplotlib.ticker as ticker\n",
    "import numpy as np\n",
    "\n",
    "def show_plot(points):\n",
    "    plt.figure()\n",
    "    fig, ax = plt.subplots()\n",
    "    # this locator puts ticks at regular intervals\n",
    "    loc = ticker.MultipleLocator(base=0.2)\n",
    "    ax.yaxis.set_major_locator(loc)\n",
    "    plt.plot(points)"
   ]
  },
  {
   "cell_type": "code",
   "execution_count": 23,
   "metadata": {
    "executionInfo": {
     "elapsed": 451,
     "status": "ok",
     "timestamp": 1739620089634,
     "user": {
      "displayName": "Константин Лазарев",
      "userId": "14945562823263778992"
     },
     "user_tz": -120
    },
    "id": "BgGb6xcIXlSv"
   },
   "outputs": [],
   "source": [
    "def train(train_dataloader, encoder, decoder, n_epochs, learning_rate=0.001,\n",
    "               print_every=100, plot_every=100):\n",
    "    start = time.time()\n",
    "    plot_losses = []\n",
    "    print_loss_total = 0  # Reset every print_every\n",
    "    plot_loss_total = 0  # Reset every plot_every\n",
    "\n",
    "    encoder_optimizer = optim.Adam(encoder.parameters(), lr=learning_rate)\n",
    "    decoder_optimizer = optim.Adam(decoder.parameters(), lr=learning_rate)\n",
    "    criterion = nn.NLLLoss()\n",
    "\n",
    "    for epoch in range(1, n_epochs + 1):\n",
    "        loss = train_epoch(train_dataloader, encoder, decoder, encoder_optimizer, decoder_optimizer, criterion)\n",
    "        print_loss_total += loss\n",
    "        plot_loss_total += loss\n",
    "\n",
    "        if epoch % print_every == 0:\n",
    "            print_loss_avg = print_loss_total / print_every\n",
    "            print_loss_total = 0\n",
    "            print('%s (%d %d%%) %.4f' % (timeSince(start, epoch / n_epochs),\n",
    "                                        epoch, epoch / n_epochs * 100, print_loss_avg))\n",
    "\n",
    "        if epoch % plot_every == 0:\n",
    "            plot_loss_avg = plot_loss_total / plot_every\n",
    "            plot_losses.append(plot_loss_avg)\n",
    "            plot_loss_total = 0\n",
    "\n",
    "    show_plot(plot_losses)"
   ]
  },
  {
   "cell_type": "markdown",
   "metadata": {
    "id": "urM90I_8XlSv"
   },
   "source": [
    "#### Построение результатов\n",
    "Построение графика выполняется с помощью matplotlib с использованием массива значений потерь, plot_lossesсохраненных во время обучения."
   ]
  },
  {
   "cell_type": "code",
   "execution_count": 18,
   "metadata": {
    "executionInfo": {
     "elapsed": 5,
     "status": "ok",
     "timestamp": 1739619156700,
     "user": {
      "displayName": "Константин Лазарев",
      "userId": "14945562823263778992"
     },
     "user_tz": -120
    },
    "id": "0JXG-RzCM9uZ"
   },
   "outputs": [],
   "source": [
    "import matplotlib.pyplot as plt\n",
    "plt.switch_backend('agg')\n",
    "import matplotlib.ticker as ticker\n",
    "import numpy as np\n",
    "\n",
    "def show_plot(points):\n",
    "    plt.figure()\n",
    "    fig, ax = plt.subplots()\n",
    "    # this locator puts ticks at regular intervals\n",
    "    loc = ticker.MultipleLocator(base=0.2)\n",
    "    ax.yaxis.set_major_locator(loc)\n",
    "    plt.plot(points)"
   ]
  },
  {
   "cell_type": "markdown",
   "metadata": {
    "id": "1nVrqw41qKn-"
   },
   "source": [
    "#### Обучение модели\n",
    "\n",
    "Для обучения мы пропускаем входное предложение через кодер и отслеживаем каждый выход и последнее скрытое состояние. Затем декодеру дается <SOS>токен в качестве его первого входа, а последнее скрытое состояние кодера — в качестве его первого скрытого состояния.\n",
    "\n",
    "«Teacher forcing» — это концепция использования реальных целевых выходов в качестве каждого следующего входа вместо использования догадки декодера в качестве следующего входа. Использование teacher forcing заставляет его сходиться быстрее, но когда обученная сеть эксплуатируется, она может проявлять нестабильность ."
   ]
  },
  {
   "cell_type": "markdown",
   "metadata": {
    "id": "r0mqiGg1XlSw"
   },
   "source": [
    "Это вспомогательная функция для вывода прошедшего времени и предполагаемого оставшегося времени с учетом текущего времени и процента прогресса."
   ]
  },
  {
   "cell_type": "code",
   "execution_count": 19,
   "metadata": {
    "executionInfo": {
     "elapsed": 4,
     "status": "ok",
     "timestamp": 1739619156700,
     "user": {
      "displayName": "Константин Лазарев",
      "userId": "14945562823263778992"
     },
     "user_tz": -120
    },
    "id": "3Bxf45h6M9ud"
   },
   "outputs": [],
   "source": [
    "def evaluate(encoder, decoder, sentence, input_lang, output_lang):\n",
    "    with torch.no_grad():\n",
    "        input_tensor = tensorFromSentence(input_lang, sentence)\n",
    "\n",
    "        encoder_outputs, encoder_hidden = encoder(input_tensor)\n",
    "        decoder_outputs, decoder_hidden, decoder_attn = decoder(encoder_outputs, encoder_hidden)\n",
    "\n",
    "        _, topi = decoder_outputs.topk(1)\n",
    "        decoded_ids = topi.squeeze()\n",
    "\n",
    "        decoded_words = []\n",
    "        for idx in decoded_ids:\n",
    "            if idx.item() == EOS_token:\n",
    "                decoded_words.append('<EOS>')\n",
    "                break\n",
    "            decoded_words.append(output_lang.index2word[idx.item()])\n",
    "    return decoded_words, decoder_attn"
   ]
  },
  {
   "cell_type": "code",
   "execution_count": 20,
   "metadata": {
    "executionInfo": {
     "elapsed": 5,
     "status": "ok",
     "timestamp": 1739619156701,
     "user": {
      "displayName": "Константин Лазарев",
      "userId": "14945562823263778992"
     },
     "user_tz": -120
    },
    "id": "1qUmQIGwM9uf"
   },
   "outputs": [],
   "source": [
    "def evaluateRandomly(encoder, decoder, n=10):\n",
    "    for i in range(n):\n",
    "        pair = random.choice(pairs)\n",
    "        print('>', pair[0])\n",
    "        print('=', pair[1])\n",
    "        output_words, _ = evaluate(encoder, decoder, pair[0], input_lang, output_lang)\n",
    "        output_sentence = ' '.join(output_words)\n",
    "        print('<', output_sentence)\n",
    "        print('')"
   ]
  },
  {
   "cell_type": "markdown",
   "metadata": {
    "id": "UuTrA8xGXlSw"
   },
   "source": [
    "#### Обучение и оценка\n"
   ]
  },
  {
   "cell_type": "code",
   "execution_count": 24,
   "metadata": {
    "colab": {
     "base_uri": "https://localhost:8080/"
    },
    "executionInfo": {
     "elapsed": 542578,
     "status": "ok",
     "timestamp": 1739620637004,
     "user": {
      "displayName": "Константин Лазарев",
      "userId": "14945562823263778992"
     },
     "user_tz": -120
    },
    "id": "s_56t10oM9uh",
    "outputId": "91a3c7fe-249b-4337-890e-9ec28c2e5e10"
   },
   "outputs": [
    {
     "name": "stdout",
     "output_type": "stream",
     "text": [
      "Reading lines...\n",
      "Read 496059 sentence pairs\n",
      "Trimmed to 5113 sentence pairs\n",
      "Counting words...\n",
      "Counted words:\n",
      "rus 4792\n",
      "eng 2446\n",
      "0m 33s (- 8m 16s) (5 6%) 1.3431\n",
      "1m 6s (- 7m 45s) (10 12%) 0.7460\n",
      "1m 39s (- 7m 12s) (15 18%) 0.5012\n",
      "2m 13s (- 6m 39s) (20 25%) 0.3322\n",
      "2m 46s (- 6m 5s) (25 31%) 0.2154\n",
      "3m 18s (- 5m 31s) (30 37%) 0.1376\n",
      "3m 52s (- 4m 59s) (35 43%) 0.0866\n",
      "4m 26s (- 4m 26s) (40 50%) 0.0550\n",
      "4m 59s (- 3m 52s) (45 56%) 0.0377\n",
      "5m 32s (- 3m 19s) (50 62%) 0.0268\n",
      "6m 5s (- 2m 46s) (55 68%) 0.0209\n",
      "6m 38s (- 2m 12s) (60 75%) 0.0164\n",
      "7m 11s (- 1m 39s) (65 81%) 0.0148\n",
      "7m 44s (- 1m 6s) (70 87%) 0.0130\n",
      "8m 17s (- 0m 33s) (75 93%) 0.0112\n",
      "8m 50s (- 0m 0s) (80 100%) 0.0100\n"
     ]
    }
   ],
   "source": [
    "hidden_size = 128\n",
    "batch_size = 32\n",
    "\n",
    "input_lang, output_lang, train_dataloader = get_dataloader(batch_size)\n",
    "\n",
    "encoder = EncoderRNN(input_lang.n_words, hidden_size).to(device)\n",
    "decoder = AttnDecoderRNN(hidden_size, output_lang.n_words).to(device)\n",
    "\n",
    "train(train_dataloader, encoder, decoder, 80, print_every=5, plot_every=5)"
   ]
  },
  {
   "cell_type": "markdown",
   "metadata": {
    "id": "DJ8pk7s5qKn_"
   },
   "source": [
    "#### Оценка модели"
   ]
  },
  {
   "cell_type": "code",
   "execution_count": 25,
   "metadata": {
    "colab": {
     "base_uri": "https://localhost:8080/"
    },
    "executionInfo": {
     "elapsed": 455,
     "status": "ok",
     "timestamp": 1739621437960,
     "user": {
      "displayName": "Константин Лазарев",
      "userId": "14945562823263778992"
     },
     "user_tz": -120
    },
    "id": "xEoEylSyM9uj",
    "outputId": "6fd04ae9-9c9d-46a0-aec2-2e55dc7268ba"
   },
   "outputs": [
    {
     "name": "stdout",
     "output_type": "stream",
     "text": [
      "> его нет, потому что он болеет .\n",
      "= he isn't here because he's ill .\n",
      "< he isn't what we call out to be true sick . he cannot have said such situations . <EOS>\n",
      "\n",
      "> она медсестра .\n",
      "= she is a nurse .\n",
      "< she saw a bath . <EOS>\n",
      "\n",
      "> у тебя серьезные неприятности .\n",
      "= you are in serious trouble .\n",
      "< you are in serious trouble . <EOS>\n",
      "\n",
      "> ему день ото дня становится лучше .\n",
      "= he is getting better day by day .\n",
      "< he is getting better day by day better day by day . <EOS>\n",
      "\n",
      "> я лучше .\n",
      "= i am better .\n",
      "< i am better better . <EOS>\n",
      "\n",
      "> они не мои родители .\n",
      "= they aren't my parents .\n",
      "< we aren't my parents parents home parents . <EOS>\n",
      "\n",
      "> он быстро бегает .\n",
      "= he is a fast runner .\n",
      "< he is the result . <EOS>\n",
      "\n",
      "> он совершенно прав .\n",
      "= he is quite right .\n",
      "< he is quite right . <EOS>\n",
      "\n",
      "> ему тридцать лет .\n",
      "= he is thirty years old .\n",
      "< he is thirty years old years old . he is eight years old people . he is eight years old\n",
      "\n",
      "> он самыи упрямыи ребенок из тех, что я когда-либо видел .\n",
      "= he is the most obstinate child i have ever seen .\n",
      "< he is the captain one space taller of town him about the entrance exam space two pillows his own present\n",
      "\n"
     ]
    }
   ],
   "source": [
    "encoder.eval()\n",
    "decoder.eval()\n",
    "evaluateRandomly(encoder, decoder)"
   ]
  },
  {
   "cell_type": "markdown",
   "metadata": {
    "id": "PNqr-h4khMLA"
   },
   "source": [
    "#### Визуализация"
   ]
  },
  {
   "cell_type": "code",
   "execution_count": null,
   "metadata": {
    "executionInfo": {
     "elapsed": 746,
     "status": "ok",
     "timestamp": 1739621528474,
     "user": {
      "displayName": "Константин Лазарев",
      "userId": "14945562823263778992"
     },
     "user_tz": -120
    },
    "id": "Dnm3AEhOhK7o"
   },
   "outputs": [],
   "source": [
    "def showAttention(input_sentence, output_words, attentions):\n",
    "    fig = plt.figure()\n",
    "    ax = fig.add_subplot(111)\n",
    "    cax = ax.matshow(attentions.cpu().numpy(), cmap='bone')\n",
    "    fig.colorbar(cax)\n",
    "\n",
    "    # Set up axes\n",
    "    ax.set_xticklabels([''] + input_sentence.split(' ') +\n",
    "                       ['<EOS>'], rotation=90)\n",
    "    ax.set_yticklabels([''] + output_words)\n",
    "\n",
    "    # Show label at every tick\n",
    "    ax.xaxis.set_major_locator(ticker.MultipleLocator(1))\n",
    "    ax.yaxis.set_major_locator(ticker.MultipleLocator(1))\n",
    "\n",
    "    plt.show()\n",
    "\n",
    "\n",
    "def evaluateAndShowAttention(input_sentence, decoder):\n",
    "    output_words, attentions = evaluate(encoder, decoder, input_sentence, input_lang, output_lang)\n",
    "    print('input =', input_sentence)\n",
    "    print('output =', ' '.join(output_words))\n",
    "    showAttention(input_sentence, output_words, attentions[0, :len(output_words), :])"
   ]
  },
  {
   "cell_type": "code",
   "execution_count": null,
   "metadata": {
    "colab": {
     "base_uri": "https://localhost:8080/",
     "height": 607
    },
    "executionInfo": {
     "elapsed": 581,
     "status": "ok",
     "timestamp": 1739621687253,
     "user": {
      "displayName": "Константин Лазарев",
      "userId": "14945562823263778992"
     },
     "user_tz": -120
    },
    "id": "0YzM0ABZhcW5",
    "outputId": "8c4d7a33-fbe9-4429-a2ee-739575a966cd"
   },
   "outputs": [
    {
     "name": "stdout",
     "output_type": "stream",
     "text": [
      "input = он самыи упрямыи ребенок из тех, что я когда-либо видел\n",
      "output = he is the captain one who took care of spain's most famous most famous doing person that would have two\n"
     ]
    },
    {
     "name": "stderr",
     "output_type": "stream",
     "text": [
      "<ipython-input-27-f52b6cb9e81c>:8: UserWarning: set_ticklabels() should only be used with a fixed number of ticks, i.e. after set_ticks() or using a FixedLocator.\n",
      "  ax.set_xticklabels([''] + input_sentence.split(' ') +\n",
      "<ipython-input-27-f52b6cb9e81c>:10: UserWarning: set_ticklabels() should only be used with a fixed number of ticks, i.e. after set_ticks() or using a FixedLocator.\n",
      "  ax.set_yticklabels([''] + output_words)\n"
     ]
    },
    {
     "data": {
      "image/png": "[encoded data removed]",
      "text/plain": [
       "<Figure size 640x480 with 2 Axes>"
      ]
     },
     "metadata": {},
     "output_type": "display_data"
    }
   ],
   "source": [
    "evaluateAndShowAttention('он самыи упрямыи ребенок из тех, что я когда-либо видел', decoder)"
   ]
  },
  {
   "cell_type": "code",
   "execution_count": null,
   "metadata": {
    "colab": {
     "base_uri": "https://localhost:8080/",
     "height": 614
    },
    "executionInfo": {
     "elapsed": 575,
     "status": "ok",
     "timestamp": 1739621721746,
     "user": {
      "displayName": "Константин Лазарев",
      "userId": "14945562823263778992"
     },
     "user_tz": -120
    },
    "id": "P6sUXfV_iJn3",
    "outputId": "73b33177-5840-432c-b9a0-930bb5565b21"
   },
   "outputs": [
    {
     "name": "stdout",
     "output_type": "stream",
     "text": [
      "input = он совершенно прав\n",
      "output = he is quite right . <EOS>\n"
     ]
    },
    {
     "name": "stderr",
     "output_type": "stream",
     "text": [
      "<ipython-input-27-f52b6cb9e81c>:8: UserWarning: set_ticklabels() should only be used with a fixed number of ticks, i.e. after set_ticks() or using a FixedLocator.\n",
      "  ax.set_xticklabels([''] + input_sentence.split(' ') +\n",
      "<ipython-input-27-f52b6cb9e81c>:10: UserWarning: set_ticklabels() should only be used with a fixed number of ticks, i.e. after set_ticks() or using a FixedLocator.\n",
      "  ax.set_yticklabels([''] + output_words)\n"
     ]
    },
    {
     "data": {
      "image/png": "[encoded data removed]",
      "text/plain": [
       "<Figure size 640x480 with 2 Axes>"
      ]
     },
     "metadata": {},
     "output_type": "display_data"
    }
   ],
   "source": [
    "evaluateAndShowAttention('он совершенно прав', decoder)"
   ]
  },
  {
   "cell_type": "markdown",
   "metadata": {
    "id": "mv2GXFTEj_ge"
   },
   "source": [
    "### Механизм внимания на основе скалярного произведения"
   ]
  },
  {
   "cell_type": "code",
   "execution_count": null,
   "metadata": {
    "executionInfo": {
     "elapsed": 442,
     "status": "ok",
     "timestamp": 1739623460700,
     "user": {
      "displayName": "Константин Лазарев",
      "userId": "14945562823263778992"
     },
     "user_tz": -120
    },
    "id": "A6m90H-Gj-52"
   },
   "outputs": [],
   "source": [
    "class MLPAttention(nn.Module):\n",
    "    def __init__(self, hidden_size):\n",
    "        super(MLPAttention, self).__init__()\n",
    "        self.mlp = nn.Sequential(\n",
    "            nn.Linear(2 * hidden_size, hidden_size),\n",
    "            nn.Tanh(),\n",
    "            nn.Linear(hidden_size, 1)\n",
    "        )\n",
    "\n",
    "    def forward(self, query, keys):\n",
    "\n",
    "        # Расширяем query до размеров keys\n",
    "        query_expanded = query.expand(-1, keys.size(1), -1)\n",
    "\n",
    "        # Конкатенируем query и keys\n",
    "        concat = torch.cat((query_expanded, keys), dim=2)\n",
    "\n",
    "        # Применяем MLP для получения scores\n",
    "        scores = self.mlp(concat)\n",
    "        scores = scores.squeeze(2).unsqueeze(1)\n",
    "\n",
    "        # Применяем softmax для получения весов внимания\n",
    "        weights = F.softmax(scores, dim=-1)\n",
    "\n",
    "        # Вычисляем контекст как взвешенную сумму ключей\n",
    "        context = torch.bmm(weights, keys)\n",
    "\n",
    "        return context, weights\n",
    "\n",
    "class AttnDecoderMLP(nn.Module):\n",
    "    def __init__(self, hidden_size, output_size, dropout_p=0.1):\n",
    "        super(AttnDecoderMLP, self).__init__()\n",
    "        self.embedding = nn.Embedding(output_size, hidden_size)\n",
    "        self.attention = MLPAttention(hidden_size)\n",
    "        self.gru = nn.GRU(2 * hidden_size, hidden_size, batch_first=True)\n",
    "        self.out = nn.Linear(hidden_size, output_size)\n",
    "        self.dropout = nn.Dropout(dropout_p)\n",
    "\n",
    "    def forward(self, encoder_outputs, encoder_hidden, target_tensor=None):\n",
    "        batch_size = encoder_outputs.size(0)\n",
    "        decoder_input = torch.empty(batch_size, 1, dtype=torch.long, device=device).fill_(SOS_token)\n",
    "        decoder_hidden = encoder_hidden\n",
    "        decoder_outputs = []\n",
    "        attentions = []\n",
    "\n",
    "        for i in range(MAX_LENGTH):\n",
    "            decoder_output, decoder_hidden, attn_weights = self.forward_step(\n",
    "                decoder_input, decoder_hidden, encoder_outputs\n",
    "            )\n",
    "            decoder_outputs.append(decoder_output)\n",
    "            attentions.append(attn_weights)\n",
    "\n",
    "            if target_tensor is not None:\n",
    "                # Teacher forcing: Feed the target as the next input\n",
    "                decoder_input = target_tensor[:, i].unsqueeze(1)  # Teacher forcing\n",
    "            else:\n",
    "                # Without teacher forcing: use its own predictions as the next input\n",
    "                _, topi = decoder_output.topk(1)\n",
    "                decoder_input = topi.squeeze(-1).detach()  # detach from history as input\n",
    "\n",
    "        decoder_outputs = torch.cat(decoder_outputs, dim=1)\n",
    "        decoder_outputs = F.log_softmax(decoder_outputs, dim=-1)\n",
    "        attentions = torch.cat(attentions, dim=1)\n",
    "\n",
    "        return decoder_outputs, decoder_hidden, attentions\n",
    "\n",
    "    def forward_step(self, input, hidden, encoder_outputs):\n",
    "        embedded = self.dropout(self.embedding(input))\n",
    "        query = hidden.permute(1, 0, 2)\n",
    "        context, attn_weights = self.attention(query, encoder_outputs)\n",
    "        input_gru = torch.cat((embedded, context), dim=2)\n",
    "        output, hidden = self.gru(input_gru, hidden)\n",
    "        output = self.out(output)\n",
    "        return output, hidden, attn_weights"
   ]
  },
  {
   "cell_type": "code",
   "execution_count": null,
   "metadata": {
    "colab": {
     "base_uri": "https://localhost:8080/",
     "height": 846
    },
    "executionInfo": {
     "elapsed": 236959,
     "status": "ok",
     "timestamp": 1739623711404,
     "user": {
      "displayName": "Константин Лазарев",
      "userId": "14945562823263778992"
     },
     "user_tz": -120
    },
    "id": "VqGXA9LKkFpF",
    "outputId": "dc91f937-5bea-40ed-ec97-b201edd4a1f3"
   },
   "outputs": [
    {
     "name": "stdout",
     "output_type": "stream",
     "text": [
      "Reading lines...\n",
      "Read 496059 sentence pairs\n",
      "Trimmed to 4414 sentence pairs\n",
      "Counting words...\n",
      "Counted words:\n",
      "rus 3975\n",
      "eng 2089\n",
      "0m 13s (- 3m 29s) (5 6%) 2.1382\n",
      "0m 27s (- 3m 15s) (10 12%) 1.1383\n",
      "0m 41s (- 3m 0s) (15 18%) 0.7015\n",
      "0m 55s (- 2m 46s) (20 25%) 0.4262\n",
      "1m 10s (- 2m 34s) (25 31%) 0.2536\n",
      "1m 23s (- 2m 19s) (30 37%) 0.1492\n",
      "1m 37s (- 2m 5s) (35 43%) 0.0886\n",
      "1m 51s (- 1m 51s) (40 50%) 0.0573\n",
      "2m 6s (- 1m 38s) (45 56%) 0.0389\n",
      "2m 20s (- 1m 24s) (50 62%) 0.0304\n",
      "2m 34s (- 1m 10s) (55 68%) 0.0246\n",
      "2m 48s (- 0m 56s) (60 75%) 0.0203\n",
      "3m 2s (- 0m 42s) (65 81%) 0.0191\n",
      "3m 16s (- 0m 28s) (70 87%) 0.0179\n",
      "3m 30s (- 0m 14s) (75 93%) 0.0152\n",
      "3m 45s (- 0m 0s) (80 100%) 0.0142\n"
     ]
    },
    {
     "data": {
      "text/plain": [
       "<Figure size 640x480 with 0 Axes>"
      ]
     },
     "metadata": {},
     "output_type": "display_data"
    },
    {
     "data": {
      "image/png": "[encoded data removed]",
      "text/plain": [
       "<Figure size 640x480 with 1 Axes>"
      ]
     },
     "metadata": {},
     "output_type": "display_data"
    }
   ],
   "source": [
    "hidden_size = 128\n",
    "batch_size = 32\n",
    "\n",
    "input_lang, output_lang, train_dataloader = get_dataloader(batch_size)\n",
    "\n",
    "encoder = EncoderRNN(input_lang.n_words, hidden_size).to(device)\n",
    "decoderMLP = AttnDecoderMLP(hidden_size, output_lang.n_words).to(device)\n",
    "\n",
    "train(train_dataloader, encoder, decoderMLP, 80, print_every=5, plot_every=5)"
   ]
  },
  {
   "cell_type": "markdown",
   "metadata": {},
   "source": [
    "#### Оценка модели"
   ]
  },
  {
   "cell_type": "code",
   "execution_count": null,
   "metadata": {},
   "outputs": [],
   "source": [
    "encoder.eval()\n",
    "decoderMLP.eval()\n",
    "evaluateRandomly(encoder, decoderMLP)"
   ]
  },
  {
   "cell_type": "markdown",
   "metadata": {},
   "source": [
    "#### Визуализация"
   ]
  },
  {
   "cell_type": "code",
   "execution_count": null,
   "metadata": {},
   "outputs": [],
   "source": [
    "evaluateAndShowAttention('он самыи упрямыи ребенок из тех, что я когда-либо видел', decoderMLP)"
   ]
  },
  {
   "cell_type": "code",
   "execution_count": null,
   "metadata": {},
   "outputs": [],
   "source": [
    "evaluateAndShowAttention('он совершенно прав', decoderMLP)"
   ]
  },
  {
   "cell_type": "markdown",
   "metadata": {
    "id": "AvyWe-xEpf2z"
   },
   "source": [
    "### На основе скалярного произведения"
   ]
  },
  {
   "cell_type": "code",
   "execution_count": null,
   "metadata": {
    "executionInfo": {
     "elapsed": 3,
     "status": "ok",
     "timestamp": 1739623713771,
     "user": {
      "displayName": "Константин Лазарев",
      "userId": "14945562823263778992"
     },
     "user_tz": -120
    },
    "id": "Rw8MxzA5pfbS"
   },
   "outputs": [],
   "source": [
    "class DotProductAttention(nn.Module):\n",
    "    def __init__(self, hidden_size):\n",
    "        super(DotProductAttention, self).__init__()\n",
    "        # В dot-product attention нам не нужны дополнительные параметры, как в Bahdanau или MLP\n",
    "        pass\n",
    "\n",
    "    def forward(self, query, keys):\n",
    "\n",
    "        # Вычисляем scores как скалярное произведение между query и keys\n",
    "        scores = torch.bmm(query, keys.transpose(1, 2))  # (batch_size, 1, seq_len)\n",
    "\n",
    "        # Применяем softmax для получения весов внимания\n",
    "        weights = F.softmax(scores, dim=-1)\n",
    "\n",
    "        # Вычисляем контекст как взвешенную сумму ключей\n",
    "        context = torch.bmm(weights, keys)  # (batch_size, 1, hidden_size)\n",
    "\n",
    "        return context, weights\n",
    "\n",
    "\n",
    "class AttnDecoderDPA(nn.Module):\n",
    "    def __init__(self, hidden_size, output_size, dropout_p=0.1):\n",
    "        super(AttnDecoderDPA, self).__init__()\n",
    "        self.embedding = nn.Embedding(output_size, hidden_size)\n",
    "        self.attention = DotProductAttention(hidden_size)\n",
    "        self.gru = nn.GRU(2 * hidden_size, hidden_size, batch_first=True)\n",
    "        self.out = nn.Linear(hidden_size, output_size)\n",
    "        self.dropout = nn.Dropout(dropout_p)\n",
    "\n",
    "    def forward(self, encoder_outputs, encoder_hidden, target_tensor=None):\n",
    "        batch_size = encoder_outputs.size(0)\n",
    "        decoder_input = torch.empty(batch_size, 1, dtype=torch.long, device=device).fill_(SOS_token)\n",
    "        decoder_hidden = encoder_hidden\n",
    "        decoder_outputs = []\n",
    "        attentions = []\n",
    "\n",
    "        for i in range(MAX_LENGTH):\n",
    "            decoder_output, decoder_hidden, attn_weights = self.forward_step(\n",
    "                decoder_input, decoder_hidden, encoder_outputs\n",
    "            )\n",
    "            decoder_outputs.append(decoder_output)\n",
    "            attentions.append(attn_weights)\n",
    "\n",
    "            if target_tensor is not None:\n",
    "                # Teacher forcing: Feed the target as the next input\n",
    "                decoder_input = target_tensor[:, i].unsqueeze(1)  # Teacher forcing\n",
    "            else:\n",
    "                # Without teacher forcing: use its own predictions as the next input\n",
    "                _, topi = decoder_output.topk(1)\n",
    "                decoder_input = topi.squeeze(-1).detach()  # detach from history as input\n",
    "\n",
    "        decoder_outputs = torch.cat(decoder_outputs, dim=1)\n",
    "        decoder_outputs = F.log_softmax(decoder_outputs, dim=-1)\n",
    "        attentions = torch.cat(attentions, dim=1)\n",
    "\n",
    "        return decoder_outputs, decoder_hidden, attentions\n",
    "\n",
    "    def forward_step(self, input, hidden, encoder_outputs):\n",
    "        embedded = self.dropout(self.embedding(input))\n",
    "        query = hidden.permute(1, 0, 2)  # (batch_size, 1, hidden_size)\n",
    "        context, attn_weights = self.attention(query, encoder_outputs)\n",
    "        input_gru = torch.cat((embedded, context), dim=2)\n",
    "        output, hidden = self.gru(input_gru, hidden)\n",
    "        output = self.out(output)\n",
    "        return output, hidden, attn_weights"
   ]
  },
  {
   "cell_type": "code",
   "execution_count": null,
   "metadata": {
    "colab": {
     "base_uri": "https://localhost:8080/"
    },
    "id": "AVj1mLKhpsTR",
    "outputId": "dd6b005a-3920-4337-a68f-4d66780adfc4"
   },
   "outputs": [
    {
     "name": "stdout",
     "output_type": "stream",
     "text": [
      "Reading lines...\n",
      "Read 496059 sentence pairs\n",
      "Trimmed to 4414 sentence pairs\n",
      "Counting words...\n",
      "Counted words:\n",
      "rus 3975\n",
      "eng 2089\n",
      "0m 11s (- 2m 47s) (5 6%) 2.2247\n",
      "0m 22s (- 2m 35s) (10 12%) 1.2756\n",
      "0m 33s (- 2m 24s) (15 18%) 0.9081\n",
      "0m 44s (- 2m 13s) (20 25%) 0.6697\n",
      "0m 55s (- 2m 1s) (25 31%) 0.5023\n",
      "1m 6s (- 1m 50s) (30 37%) 0.3783\n",
      "1m 17s (- 1m 39s) (35 43%) 0.2859\n",
      "1m 28s (- 1m 28s) (40 50%) 0.2133\n",
      "1m 39s (- 1m 17s) (45 56%) 0.1586\n",
      "1m 50s (- 1m 6s) (50 62%) 0.1183\n",
      "2m 1s (- 0m 55s) (55 68%) 0.0896\n",
      "2m 13s (- 0m 44s) (60 75%) 0.0687\n",
      "2m 24s (- 0m 33s) (65 81%) 0.0561\n",
      "2m 35s (- 0m 22s) (70 87%) 0.0432\n"
     ]
    }
   ],
   "source": [
    "hidden_size = 128\n",
    "batch_size = 32\n",
    "\n",
    "input_lang, output_lang, train_dataloader = get_dataloader(batch_size)\n",
    "\n",
    "encoder = EncoderRNN(input_lang.n_words, hidden_size).to(device)\n",
    "decoderDPA = AttnDecoderDPA(hidden_size, output_lang.n_words).to(device)\n",
    "\n",
    "train(train_dataloader, encoder, decoderDPA, 80, print_every=5, plot_every=5)"
   ]
  },
  {
   "cell_type": "markdown",
   "metadata": {},
   "source": [
    "#### Оценка модели"
   ]
  },
  {
   "cell_type": "code",
   "execution_count": null,
   "metadata": {},
   "outputs": [],
   "source": [
    "encoder.eval()\n",
    "decoderDPA.eval()\n",
    "evaluateRandomly(encoder, decoderDPA)"
   ]
  },
  {
   "cell_type": "markdown",
   "metadata": {},
   "source": [
    "#### Визуализация"
   ]
  },
  {
   "cell_type": "code",
   "execution_count": null,
   "metadata": {},
   "outputs": [],
   "source": [
    "evaluateAndShowAttention('он самыи упрямыи ребенок из тех, что я когда-либо видел', decoderDPA)"
   ]
  },
  {
   "cell_type": "code",
   "execution_count": null,
   "metadata": {},
   "outputs": [],
   "source": [
    "evaluateAndShowAttention('он совершенно прав', decoderDPA)"
   ]
  }
 ],
 "metadata": {
  "accelerator": "GPU",
  "colab": {
   "provenance": []
  },
  "kernelspec": {
   "display_name": ".venv",
   "language": "python",
   "name": "python3"
  },
  "language_info": {
   "codemirror_mode": {
    "name": "ipython",
    "version": 3
   },
   "file_extension": ".py",
   "mimetype": "text/x-python",
   "name": "python",
   "nbconvert_exporter": "python",
   "pygments_lexer": "ipython3",
   "version": "3.11.9"
  }
 },
 "nbformat": 4,
 "nbformat_minor": 0
}
